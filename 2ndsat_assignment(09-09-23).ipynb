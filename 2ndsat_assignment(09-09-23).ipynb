{
 "cells": [
  {
   "cell_type": "code",
   "execution_count": 13,
   "id": "938f2dc5",
   "metadata": {},
   "outputs": [
    {
     "name": "stdout",
     "output_type": "stream",
     "text": [
      "   Gender     Name\n",
      "1    male    Nihar\n",
      "2  female  Bahvani\n",
      "3    male    Vicky\n",
      "4  female    Indhu\n",
      "5    male    Venky\n",
      "6  female    Sneha\n",
      "                             Gender                              Name\n",
      "sum  malefemalemalefemalemalefemale  NiharBahvaniVickyIndhuVenkySneha\n",
      "min                          female                           Bahvani\n",
      "<pandas.core.groupby.generic.DataFrameGroupBy object at 0x00000192FF352A50>\n"
     ]
    }
   ],
   "source": [
    "import pandas as pd\n",
    "df={\n",
    "    'Gender':['male','female','male','female','male','female'],\n",
    "    'Name':['Nihar','Bahvani','Vicky','Indhu','Venky','Sneha']\n",
    "}\n",
    "df=pd.DataFrame(data=df,index=[1,2,3,4,5,6])\n",
    "print(df)\n",
    "print(df.agg(['sum','min']))\n",
    "print(df.groupby('Gender'))"
   ]
  },
  {
   "cell_type": "code",
   "execution_count": 7,
   "id": "e28f8bbf",
   "metadata": {},
   "outputs": [
    {
     "name": "stdout",
     "output_type": "stream",
     "text": [
      "                    SizeOfHouse      Price  Gender Age    TypesOfHouses  \\\n",
      "1   Computer Software Engineers    2000000    male  24       Cave Homes   \n",
      "2             Chemical Engineer     340500    male  25            Hotel   \n",
      "3              Newspaper Editor     100000  female  30      Tree Houses   \n",
      "4             Medical Secretary     400500    male  40  Floating Cabins   \n",
      "5                Math Professor   40000050  female  45        Apartment   \n",
      "6   Radio & TV Sports Announcer   50005000  female  52        Farmhouse   \n",
      "7      Real Estate Sales Agents    5003009  female  43       Cave Homes   \n",
      "8              Fashion Designer     600500    male  38            Hotel   \n",
      "9         Food & Drug Inspector    6029390    male  27            Hotel   \n",
      "10          Industrial Designer  601905000  female  54      Tree Houses   \n",
      "\n",
      "   NoOfRoomsInHouse  \n",
      "1                 1  \n",
      "2                70  \n",
      "3                 1  \n",
      "4                 3  \n",
      "5                50  \n",
      "6                 1  \n",
      "7                80  \n",
      "8                80  \n",
      "9                 1  \n",
      "10                2  \n"
     ]
    }
   ],
   "source": [
    "import pandas as pd \n",
    "import numpy as np\n",
    "import matplotlib.pyplot as plt\n",
    "House_Predection={\n",
    "    'SizeOfHouse':['20*20','20*30','30*40','40*20','40*50','50*20','50*30','60*30','60*20','60*60'],\n",
    "    'Price':['2000000','340500','100000','400500','40000050','50005000','5003009','600500','6029390','601905000'],\n",
    "    'Gender':['male','male','female','male','female','female','female','male','male','female'],\n",
    "    'SizeOfHouse':['Computer Software Engineers','Chemical Engineer','Newspaper Editor','Medical Secretary','Math Professor','Radio & TV Sports Announcer','Real Estate Sales Agents','Fashion Designer','Food & Drug Inspector','Industrial Designer'],\n",
    "    'Age':['24','25','30','40','45','52','43','38','27','54'],\n",
    "    'TypesOfHouses':['Cave Homes','Hotel','Tree Houses','Floating Cabins','Apartment','Farmhouse','Cave Homes','Hotel','Hotel','Tree Houses'],\n",
    "    'NoOfRoomsInHouse':['1','70','1','3','50','1','80','80','1','2']\n",
    "}\n",
    "House_Predection=pd.DataFrame(data=House_Predection,index=[1,2,3,4,5,6,7,8,9,10]\n",
    "print(House_Predection)"
   ]
  },
  {
   "cell_type": "code",
   "execution_count": 17,
   "id": "369547bc",
   "metadata": {},
   "outputs": [
    {
     "name": "stdout",
     "output_type": "stream",
     "text": [
      "   SizeOfHouse      Price  Gender  GenderInNumber  \\\n",
      "1        20*20    2000000    male               0   \n",
      "2        20*30     340500    male               0   \n",
      "3        30*40     100000  female               1   \n",
      "4        40*20     400500    male               0   \n",
      "5        40*50   40000050  female               1   \n",
      "6        50*20   50005000  female               1   \n",
      "7        50*30    5003009  female               1   \n",
      "8        60*30     600500    male               0   \n",
      "9        60*20    6029390    male               0   \n",
      "10       60*60  601905000  female               1   \n",
      "\n",
      "                     Occupation Age TypesOfHouses NoOfRoomsInHouse  \n",
      "1   Computer Software Engineers  24     Apartment                1  \n",
      "2             Chemical Engineer  25     Farmhouse               70  \n",
      "3              Newspaper Editor  30     Farmhouse                1  \n",
      "4             Medical Secretary  40     Farmhouse                3  \n",
      "5                Math Professor  45     Apartment               50  \n",
      "6   Radio & TV Sports Announcer  52     Farmhouse                1  \n",
      "7      Real Estate Sales Agents  43     Apartment               80  \n",
      "8              Fashion Designer  38     Apartment               80  \n",
      "9         Food & Drug Inspector  27     Apartment                1  \n",
      "10          Industrial Designer  54     Farmhouse                2  \n",
      "mapping\n",
      "1     0\n",
      "2     1\n",
      "3     1\n",
      "4     1\n",
      "5     0\n",
      "6     1\n",
      "7     0\n",
      "8     0\n",
      "9     0\n",
      "10    1\n",
      "Name: TypesOfHouses, dtype: object\n"
     ]
    }
   ],
   "source": [
    "import pandas as pd \n",
    "from functools import reduce\n",
    "House_Predection1=pd.DataFrame({\n",
    "    'SizeOfHouse':['20*20','20*30','30*40','40*20','40*50','50*20','50*30','60*30','60*20','60*60'],\n",
    "    'Price':[ 2000000,340500,100000,400500,40000050,50005000,5003009,600500,6029390,601905000],\n",
    "    'Gender':['male','male','female','male','female','female','female','male','male','female'],\n",
    "    'GenderInNumber':[0,0,1,0,1,1,1,0,0,1],\n",
    "    'Occupation':['Computer Software Engineers','Chemical Engineer','Newspaper Editor','Medical Secretary','Math Professor','Radio & TV Sports Announcer','Real Estate Sales Agents','Fashion Designer','Food & Drug Inspector','Industrial Designer'],\n",
    "    'Age':['24','25','30','40','45','52','43','38','27','54'],\n",
    "    'TypesOfHouses':['Apartment','Farmhouse','Farmhouse','Farmhouse','Apartment','Farmhouse','Apartment','Apartment','Apartment','Farmhouse',],\n",
    "    'NoOfRoomsInHouse':['1','70','1','3','50','1','80','80','1','2']\n",
    "},index=[1,2,3,4,5,6,7,8,9,10])\n",
    "print(House_Predection1)\n",
    "print(\"mapping\")\n",
    "def greatest_than(n):\n",
    "    return n>340500\n",
    "print(House_Predection1['TypesOfHouses'].map({'Apartment':'0','Farmhouse':'1'}))\n",
    "#filtering=list(filter(lambda x:greater_than(x),dfs['Price']))\n",
    "#print(filtering)"
   ]
  },
  {
   "cell_type": "code",
   "execution_count": null,
   "id": "bdd6ec0d",
   "metadata": {},
   "outputs": [],
   "source": []
  },
  {
   "cell_type": "code",
   "execution_count": null,
   "id": "453e7e61",
   "metadata": {},
   "outputs": [],
   "source": []
  }
 ],
 "metadata": {
  "kernelspec": {
   "display_name": "Python 3 (ipykernel)",
   "language": "python",
   "name": "python3"
  },
  "language_info": {
   "codemirror_mode": {
    "name": "ipython",
    "version": 3
   },
   "file_extension": ".py",
   "mimetype": "text/x-python",
   "name": "python",
   "nbconvert_exporter": "python",
   "pygments_lexer": "ipython3",
   "version": "3.11.4"
  }
 },
 "nbformat": 4,
 "nbformat_minor": 5
}
